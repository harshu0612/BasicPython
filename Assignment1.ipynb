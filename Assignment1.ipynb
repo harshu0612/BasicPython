{
 "cells": [
  {
   "cell_type": "markdown",
   "id": "34c194b0",
   "metadata": {},
   "source": [
    "1. In the below elements which of them are values or an expression? eg:- values can be\n",
    "integer or string and expressions will be mathematical operators.\n",
    "*\n",
    "'hello'\n",
    "-87.8\n",
    "-\n",
    "/\n",
    "+\n",
    "6"
   ]
  },
  {
   "cell_type": "code",
   "execution_count": 24,
   "id": "9450037f",
   "metadata": {},
   "outputs": [
    {
     "name": "stdout",
     "output_type": "stream",
     "text": [
      "30\n"
     ]
    }
   ],
   "source": [
    "a = 6\n",
    "b = 5\n",
    "c = a * b\n",
    "print(c)\n",
    "#hence we can see * is a expression"
   ]
  },
  {
   "cell_type": "code",
   "execution_count": 25,
   "id": "62142b24",
   "metadata": {},
   "outputs": [
    {
     "name": "stdout",
     "output_type": "stream",
     "text": [
      "Hello\n"
     ]
    }
   ],
   "source": [
    "ch='Hello'\n",
    "print (ch)\n",
    "#hence 'hello' is a value"
   ]
  },
  {
   "cell_type": "code",
   "execution_count": 26,
   "id": "ebb7a6f9",
   "metadata": {},
   "outputs": [
    {
     "name": "stdout",
     "output_type": "stream",
     "text": [
      "-43.9\n"
     ]
    }
   ],
   "source": [
    "h=-87.8\n",
    "b=2\n",
    "c=h/b\n",
    "print (c)\n",
    "#hence we -87.8 is a value"
   ]
  },
  {
   "cell_type": "code",
   "execution_count": 27,
   "id": "9cf541ac",
   "metadata": {},
   "outputs": [
    {
     "name": "stdout",
     "output_type": "stream",
     "text": [
      "-26\n"
     ]
    }
   ],
   "source": [
    "h=-24\n",
    "b=2\n",
    "c=h-b\n",
    "print (c)\n",
    "#hence - is a expression"
   ]
  },
  {
   "cell_type": "code",
   "execution_count": 28,
   "id": "e87d5115",
   "metadata": {},
   "outputs": [
    {
     "name": "stdout",
     "output_type": "stream",
     "text": [
      "12.0\n"
     ]
    }
   ],
   "source": [
    "h=24\n",
    "b=2\n",
    "c=h/b\n",
    "print (c)\n",
    "#hence / is a expression"
   ]
  },
  {
   "cell_type": "code",
   "execution_count": 29,
   "id": "147cad5e",
   "metadata": {},
   "outputs": [
    {
     "name": "stdout",
     "output_type": "stream",
     "text": [
      "12.0\n"
     ]
    }
   ],
   "source": [
    "h=24\n",
    "b=2\n",
    "c=h/b\n",
    "print (c)\n",
    "#hence / is a expression"
   ]
  },
  {
   "cell_type": "code",
   "execution_count": 30,
   "id": "56f6115c",
   "metadata": {},
   "outputs": [
    {
     "name": "stdout",
     "output_type": "stream",
     "text": [
      "26\n"
     ]
    }
   ],
   "source": [
    "h=24\n",
    "b=2\n",
    "c=h+b\n",
    "print (c)\n",
    "#hence + is a expression"
   ]
  },
  {
   "cell_type": "code",
   "execution_count": 31,
   "id": "908d525a",
   "metadata": {},
   "outputs": [
    {
     "name": "stdout",
     "output_type": "stream",
     "text": [
      "6\n"
     ]
    }
   ],
   "source": [
    "h=4\n",
    "b=2\n",
    "c=h+b\n",
    "print (c)\n",
    "#hence 6 is a value"
   ]
  },
  {
   "cell_type": "markdown",
   "id": "52cab37a",
   "metadata": {},
   "source": [
    "2. What is the difference between string and variable?"
   ]
  },
  {
   "cell_type": "code",
   "execution_count": 32,
   "id": "a5597415",
   "metadata": {},
   "outputs": [
    {
     "name": "stdout",
     "output_type": "stream",
     "text": [
      "<class 'str'>\n"
     ]
    }
   ],
   "source": [
    "#String is a data type that is used with a variable to store character value\n",
    "#variable are the container that is used with the data type to store different types of value like integer,string,character,boolean,arrays\n",
    "\n",
    "#String example-\n",
    "a='string is used to store character values'\n",
    "b=type(a)\n",
    "print(b)\n",
    "\n"
   ]
  },
  {
   "cell_type": "code",
   "execution_count": 33,
   "id": "3fe4ca14",
   "metadata": {},
   "outputs": [
    {
     "name": "stdout",
     "output_type": "stream",
     "text": [
      "<class 'int'>\n",
      "<class 'float'>\n",
      "<class 'str'>\n"
     ]
    }
   ],
   "source": [
    "#variable are the container that is used with the data type to store different types of value like integer,string,character,boolean,arrays\n",
    "#Variables Example-\n",
    "a=10\n",
    "b='str'\n",
    "c=47.3\n",
    "m=type(a)\n",
    "n=type(b)\n",
    "o=type(c)\n",
    "print(m)\n",
    "print(o)\n",
    "print(n)"
   ]
  },
  {
   "cell_type": "markdown",
   "id": "243b1cc2",
   "metadata": {},
   "source": [
    "3. Describe three different data types."
   ]
  },
  {
   "cell_type": "code",
   "execution_count": 34,
   "id": "123354fe",
   "metadata": {},
   "outputs": [
    {
     "name": "stdout",
     "output_type": "stream",
     "text": [
      "Harshu\n"
     ]
    }
   ],
   "source": [
    "#There are 9 types of data types which are used in python which are\n",
    "#1. str – String\n",
    "#Stores text inside quotes (single ' or double \").\n",
    "name = \"Harshu\"\n",
    "print(name)"
   ]
  },
  {
   "cell_type": "code",
   "execution_count": 35,
   "id": "e6790935",
   "metadata": {},
   "outputs": [
    {
     "name": "stdout",
     "output_type": "stream",
     "text": [
      "21\n"
     ]
    }
   ],
   "source": [
    "#2. int – Integer\n",
    "#Whole numbers (positive or negative).\n",
    "\n",
    "age = 21\n",
    "print(age)"
   ]
  },
  {
   "cell_type": "code",
   "execution_count": 36,
   "id": "30eadb63",
   "metadata": {},
   "outputs": [
    {
     "name": "stdout",
     "output_type": "stream",
     "text": [
      "99.99\n"
     ]
    }
   ],
   "source": [
    "#3. float – Floating Point\n",
    "#Decimal numbers.\n",
    "price = 99.99\n",
    "print(price)\n"
   ]
  },
  {
   "cell_type": "code",
   "execution_count": 37,
   "id": "d5fb7bfe",
   "metadata": {},
   "outputs": [
    {
     "name": "stdout",
     "output_type": "stream",
     "text": [
      "True\n"
     ]
    }
   ],
   "source": [
    "#4 Boolean (bool)\n",
    "#Use: Represents True or False values\n",
    "#Used in: Conditions, comparisons, loops\n",
    "a = 5\n",
    "b = 3\n",
    "print(a > b)  # Output: True\n",
    "\n"
   ]
  },
  {
   "cell_type": "code",
   "execution_count": 38,
   "id": "63a5f191",
   "metadata": {},
   "outputs": [
    {
     "name": "stdout",
     "output_type": "stream",
     "text": [
      "['apple', 'banana', 'mango']\n"
     ]
    }
   ],
   "source": [
    "\n",
    "#5 List\n",
    "#Use: Ordered, changeable (mutable), allows duplicate values\n",
    "#Indexed: Yes (starts at 0)\n",
    "fruits = [\"apple\", \"banana\", \"mango\"]\n",
    "print(fruits)\n",
    "\n"
   ]
  },
  {
   "cell_type": "code",
   "execution_count": 39,
   "id": "a791ac2c",
   "metadata": {},
   "outputs": [
    {
     "name": "stdout",
     "output_type": "stream",
     "text": [
      "('red', 'green', 'blue')\n"
     ]
    }
   ],
   "source": [
    "#6. Tuple\n",
    "#Use: Ordered, unchangeable (immutable), allows duplicates\n",
    "colors = (\"red\", \"green\", \"blue\")\n",
    "print(colors)"
   ]
  },
  {
   "cell_type": "code",
   "execution_count": 40,
   "id": "fa84cc8f",
   "metadata": {},
   "outputs": [
    {
     "name": "stdout",
     "output_type": "stream",
     "text": [
      "{1, 2, 3}\n"
     ]
    }
   ],
   "source": [
    "#7. Set\n",
    "# Use: Unordered, unindexed, no duplicates\n",
    "my_set = {1, 2, 3, 2, 1}\n",
    "print(my_set)"
   ]
  },
  {
   "cell_type": "code",
   "execution_count": 41,
   "id": "498ecee9",
   "metadata": {},
   "outputs": [
    {
     "name": "stdout",
     "output_type": "stream",
     "text": [
      "{'name': 'Ananya', 'age': 20, 'course': 'Python'}\n"
     ]
    }
   ],
   "source": [
    "#8 Dictionary (dict)\n",
    "#Use: Stores data in key-value pairs\n",
    "student = {\n",
    "    \"name\": \"Ananya\",\n",
    "    \"age\": 20,\n",
    "    \"course\": \"Python\"\n",
    "}\n",
    "print(student)"
   ]
  },
  {
   "cell_type": "code",
   "execution_count": 42,
   "id": "4ed92bb6",
   "metadata": {},
   "outputs": [],
   "source": [
    "#9. None is a special built-in constant in Python.\n",
    "#It represents no value or nothing."
   ]
  },
  {
   "cell_type": "markdown",
   "id": "0ce5e6c6",
   "metadata": {},
   "source": [
    "4. What is an expression made up of? What do all expressions do?"
   ]
  },
  {
   "cell_type": "code",
   "execution_count": 43,
   "id": "6ed81d6e",
   "metadata": {},
   "outputs": [],
   "source": [
    "#Expression are made up of operands and operator\n",
    "#Operator-Operators are the expression which are used for performing action\n",
    "#Values-Values are the Digits,on which the action is performed\n",
    "#Variables-Variables are the storage where the values are stored"
   ]
  },
  {
   "cell_type": "markdown",
   "id": "c6c7d432",
   "metadata": {},
   "source": [
    "5.This assignment statements, like spam = 10. What is the difference between an\n",
    "expression and a statement?"
   ]
  },
  {
   "cell_type": "code",
   "execution_count": 50,
   "id": "11e9a6c9",
   "metadata": {},
   "outputs": [
    {
     "name": "stdout",
     "output_type": "stream",
     "text": [
      "20\n"
     ]
    }
   ],
   "source": [
    "#As we can clearly see below that the spam=10 is a statement not the expression ,becuase a statement is a piece of code that does Something whereas the \n",
    "#expression is a piece of code that produces a value\n",
    "spam=10 #Statement\n",
    "spam_2=spam+10 #Expression\n",
    "print(spam_2)"
   ]
  },
  {
   "cell_type": "markdown",
   "id": "e8112a57",
   "metadata": {},
   "source": [
    "6.After running the following code, what does the variable bacon contain?\n",
    "bacon = 22\n",
    "bacon + 1\n"
   ]
  },
  {
   "cell_type": "code",
   "execution_count": 51,
   "id": "2422d78b",
   "metadata": {},
   "outputs": [
    {
     "name": "stdout",
     "output_type": "stream",
     "text": [
      "22\n"
     ]
    }
   ],
   "source": [
    "bacon = 22\n",
    "bacon + 1\n",
    "print(bacon) #hence 22 is the answer"
   ]
  },
  {
   "cell_type": "markdown",
   "id": "6048c70e",
   "metadata": {},
   "source": [
    "7. What should the values of the following two terms be?\n",
    "'spam' + 'spamspam'\n",
    "'spam' * 3"
   ]
  },
  {
   "cell_type": "code",
   "execution_count": null,
   "id": "134c456d",
   "metadata": {},
   "outputs": [
    {
     "data": {
      "text/plain": [
       "'spamspamspam'"
      ]
     },
     "execution_count": 52,
     "metadata": {},
     "output_type": "execute_result"
    }
   ],
   "source": [
    "'spam' + 'spamspam'\n",
    "'spam' * 3 #Hence the output is -'spamspamspam'\n"
   ]
  },
  {
   "cell_type": "markdown",
   "id": "255e2647",
   "metadata": {},
   "source": [
    "8. Why is eggs a valid variable name while 100 is invalid?"
   ]
  },
  {
   "cell_type": "code",
   "execution_count": null,
   "id": "3133ff7b",
   "metadata": {},
   "outputs": [],
   "source": [
    "#Egg is a valid variable name because it is not a reserved keyword, \n",
    "# and it is a word. On the other hand, 100 is a number, and numbers cannot be used as variable names since that goes against the naming rules in Python.\n"
   ]
  },
  {
   "cell_type": "markdown",
   "id": "6e69ba17",
   "metadata": {},
   "source": [
    "9. What three functions can be used to get the integer, floating-point number, or string\n",
    "version of a value?"
   ]
  },
  {
   "cell_type": "code",
   "execution_count": 56,
   "id": "23ce7084",
   "metadata": {},
   "outputs": [
    {
     "name": "stdout",
     "output_type": "stream",
     "text": [
      "10\n",
      "5\n"
     ]
    }
   ],
   "source": [
    "#1. int() – Converts to Integer\n",
    "x = int(5.7)     # Output: 5\n",
    "y = int(\"10\")    # Output: 10\n",
    "print (y)\n",
    "print(x)"
   ]
  },
  {
   "cell_type": "code",
   "execution_count": 57,
   "id": "5724491b",
   "metadata": {},
   "outputs": [
    {
     "name": "stdout",
     "output_type": "stream",
     "text": [
      "5.0\n",
      "3.14\n"
     ]
    }
   ],
   "source": [
    "#2. float() – Converts to Floating-point number\n",
    "a = float(5)     # Output: 5.0\n",
    "b = float(\"3.14\")# Output: 3.14\n",
    "print (a)\n",
    "print(b)"
   ]
  },
  {
   "cell_type": "code",
   "execution_count": 58,
   "id": "c5ade8a5",
   "metadata": {},
   "outputs": [
    {
     "name": "stdout",
     "output_type": "stream",
     "text": [
      "100\n",
      "3.14\n"
     ]
    }
   ],
   "source": [
    "#3. str() – Converts to String\n",
    "s1 = str(100)    # Output: \"100\"\n",
    "s2 = str(3.14)   # Output: \"3.14\"\n",
    "print(s1)\n",
    "print(s2)"
   ]
  },
  {
   "cell_type": "markdown",
   "id": "a8bf9c8d",
   "metadata": {},
   "source": [
    "10. Why does this expression cause an error? How can you fix it?\n",
    "'I have eaten '+ 99 + 'burritos.'"
   ]
  },
  {
   "cell_type": "code",
   "execution_count": 59,
   "id": "8e9edcb3",
   "metadata": {},
   "outputs": [
    {
     "name": "stdout",
     "output_type": "stream",
     "text": [
      "I have eaten99burritos.\n"
     ]
    }
   ],
   "source": [
    "#This Statement is trying to concatenate the string with integer\n",
    "#So to solve this out it would be like\n",
    "str= 'I have eaten' +str(99) +'burritos.'\n",
    "print (str)"
   ]
  }
 ],
 "metadata": {
  "kernelspec": {
   "display_name": "Python 3",
   "language": "python",
   "name": "python3"
  },
  "language_info": {
   "codemirror_mode": {
    "name": "ipython",
    "version": 3
   },
   "file_extension": ".py",
   "mimetype": "text/x-python",
   "name": "python",
   "nbconvert_exporter": "python",
   "pygments_lexer": "ipython3",
   "version": "3.13.5"
  }
 },
 "nbformat": 4,
 "nbformat_minor": 5
}
