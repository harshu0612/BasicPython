{
 "cells": [
  {
   "cell_type": "code",
   "execution_count": null,
   "id": "4614ac8a",
   "metadata": {},
   "outputs": [
    {
     "name": "stdout",
     "output_type": "stream",
     "text": [
      "1\n",
      "2\n",
      "3\n",
      "4\n",
      "5\n",
      "6\n",
      "7\n",
      "8\n",
      "9\n",
      "10\n"
     ]
    }
   ],
   "source": [
    "for a in range(1,11,1): # code to print 1-10 using for loop\n",
    " print(a)"
   ]
  },
  {
   "cell_type": "code",
   "execution_count": null,
   "id": "3cf0b09c",
   "metadata": {},
   "outputs": [
    {
     "name": "stdout",
     "output_type": "stream",
     "text": [
      "5050\n"
     ]
    }
   ],
   "source": [
    "i=0  #code to print sum of 1-100 using for loop\n",
    "for a in range(1,101,1):\n",
    "    i=i+a\n",
    "print(i)"
   ]
  },
  {
   "cell_type": "code",
   "execution_count": null,
   "id": "b6e5bf51",
   "metadata": {},
   "outputs": [
    {
     "name": "stdout",
     "output_type": "stream",
     "text": [
      "5x1=5\n",
      "5x2=10\n",
      "5x3=15\n",
      "5x4=20\n",
      "5x5=25\n",
      "5x6=30\n",
      "5x7=35\n",
      "5x8=40\n",
      "5x9=45\n",
      "5x10=50\n"
     ]
    }
   ],
   "source": [
    "n=int(input(\"enter the number\"))  #code to show table of number given by user\n",
    "for a in range(1,11,1):\n",
    "  print(f\"\"\"{n}x{a}={n*a}\"\"\")"
   ]
  },
  {
   "cell_type": "code",
   "execution_count": 20,
   "id": "667bd454",
   "metadata": {},
   "outputs": [
    {
     "name": "stdout",
     "output_type": "stream",
     "text": [
      "[12, 13, 14, 15]\n",
      "The number of odds are 2 and the number of even are 2\n"
     ]
    }
   ],
   "source": [
    "#Taking values from the user and storing them as list ,and rectifying the number of odds and even\n",
    "n=input('Enter the values seprated by space :')\n",
    "num=list(map(int,n.split()))\n",
    "print(num)\n",
    "i=0\n",
    "m=0\n",
    "for n1 in num:\n",
    " if n1%2==0:\n",
    "   i=i+1\n",
    " else:\n",
    "  m=m+1\n",
    "print(f\"\"\"The number of odds are {m} and the number of even are {i}\"\"\")"
   ]
  },
  {
   "cell_type": "code",
   "execution_count": 29,
   "id": "317dc2cd",
   "metadata": {},
   "outputs": [
    {
     "name": "stdout",
     "output_type": "stream",
     "text": [
      "120\n"
     ]
    }
   ],
   "source": [
    "# code to find out the factorial of a number using for loop\n",
    "inp=int(input('Enter the value'))\n",
    "m=1\n",
    "for n in range(1,inp+1):\n",
    " m=m*n\n",
    "print(m)    \n",
    " "
   ]
  },
  {
   "cell_type": "code",
   "execution_count": null,
   "id": "f7124469",
   "metadata": {},
   "outputs": [],
   "source": [
    "#code to check whether a number is a prime or not\n",
    "\n"
   ]
  }
 ],
 "metadata": {
  "kernelspec": {
   "display_name": "Python 3",
   "language": "python",
   "name": "python3"
  },
  "language_info": {
   "codemirror_mode": {
    "name": "ipython",
    "version": 3
   },
   "file_extension": ".py",
   "mimetype": "text/x-python",
   "name": "python",
   "nbconvert_exporter": "python",
   "pygments_lexer": "ipython3",
   "version": "3.11.9"
  }
 },
 "nbformat": 4,
 "nbformat_minor": 5
}
