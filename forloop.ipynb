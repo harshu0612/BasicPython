{
 "cells": [
  {
   "cell_type": "code",
   "execution_count": null,
   "id": "4614ac8a",
   "metadata": {},
   "outputs": [
    {
     "name": "stdout",
     "output_type": "stream",
     "text": [
      "1\n",
      "2\n",
      "3\n",
      "4\n",
      "5\n",
      "6\n",
      "7\n",
      "8\n",
      "9\n",
      "10\n"
     ]
    }
   ],
   "source": [
    "for a in range(1,11,1): # code to print 1-10 using for loop\n",
    " print(a)"
   ]
  },
  {
   "cell_type": "code",
   "execution_count": null,
   "id": "3cf0b09c",
   "metadata": {},
   "outputs": [
    {
     "name": "stdout",
     "output_type": "stream",
     "text": [
      "5050\n"
     ]
    }
   ],
   "source": [
    "i=0  #code to print sum of 1-100 using for loop\n",
    "for a in range(1,101,1):\n",
    "    i=i+a\n",
    "print(i)"
   ]
  },
  {
   "cell_type": "code",
   "execution_count": null,
   "id": "b6e5bf51",
   "metadata": {},
   "outputs": [
    {
     "name": "stdout",
     "output_type": "stream",
     "text": [
      "5x1=5\n",
      "5x2=10\n",
      "5x3=15\n",
      "5x4=20\n",
      "5x5=25\n",
      "5x6=30\n",
      "5x7=35\n",
      "5x8=40\n",
      "5x9=45\n",
      "5x10=50\n"
     ]
    }
   ],
   "source": [
    "n=int(input(\"enter the number\"))  #code to show table of number given by user\n",
    "for a in range(1,11,1):\n",
    "  print(f\"\"\"{n}x{a}={n*a}\"\"\")"
   ]
  },
  {
   "cell_type": "code",
   "execution_count": 20,
   "id": "667bd454",
   "metadata": {},
   "outputs": [
    {
     "name": "stdout",
     "output_type": "stream",
     "text": [
      "[12, 13, 14, 15]\n",
      "The number of odds are 2 and the number of even are 2\n"
     ]
    }
   ],
   "source": [
    "#Taking values from the user and storing them as list ,and rectifying the number of odds and even\n",
    "n=input('Enter the values seprated by space :')\n",
    "num=list(map(int,n.split()))\n",
    "print(num)\n",
    "i=0\n",
    "m=0\n",
    "for n1 in num:\n",
    " if n1%2==0:\n",
    "   i=i+1\n",
    " else:\n",
    "  m=m+1\n",
    "print(f\"\"\"The number of odds are {m} and the number of even are {i}\"\"\")"
   ]
  },
  {
   "cell_type": "code",
   "execution_count": 29,
   "id": "317dc2cd",
   "metadata": {},
   "outputs": [
    {
     "name": "stdout",
     "output_type": "stream",
     "text": [
      "120\n"
     ]
    }
   ],
   "source": [
    "# code to find out the factorial of a number using for loop\n",
    "inp=int(input('Enter the value'))\n",
    "m=1\n",
    "for n in range(1,inp+1):\n",
    " m=m*n\n",
    "print(m)    \n",
    " "
   ]
  },
  {
   "cell_type": "code",
   "execution_count": 21,
   "id": "f7124469",
   "metadata": {},
   "outputs": [
    {
     "name": "stdout",
     "output_type": "stream",
     "text": [
      "Fibonacci series is 0 1\n",
      "1\n",
      "2\n",
      "3\n",
      "5\n",
      "8\n"
     ]
    }
   ],
   "source": [
    "#code to print the fibonacci series\n",
    "inp=int(input('Enter the value of n'))\n",
    "a=0\n",
    "b=1\n",
    "sum=0\n",
    "# I have to print the fiboacci series 0 1 1 2 3\n",
    "print('Fibonacci series is',a,b)\n",
    "for c in range(inp):\n",
    "    sum=a+b\n",
    "    a=b\n",
    "    b=sum\n",
    "    print( sum)\n",
    "\n",
    "\n"
   ]
  },
  {
   "cell_type": "code",
   "execution_count": 29,
   "id": "b7fc7468",
   "metadata": {},
   "outputs": [
    {
     "name": "stdout",
     "output_type": "stream",
     "text": [
      "Entered number is prime\n"
     ]
    }
   ],
   "source": [
    "#code to check whether the number is prime or not\n",
    "inp = int(input('Enter the value (must be more than 1): '))\n",
    "\n",
    "if inp <= 1:\n",
    "    print(\"Number should be greater than 1.\")\n",
    "else:\n",
    "    for i in range(2, inp):\n",
    "        if inp % i == 0:\n",
    "            print(\"Entered number is not prime\")\n",
    "            break\n",
    "    else:\n",
    "        print(\"Entered number is prime\")\n"
   ]
  },
  {
   "cell_type": "code",
   "execution_count": 39,
   "id": "54a6ff4c",
   "metadata": {},
   "outputs": [
    {
     "name": "stdout",
     "output_type": "stream",
     "text": [
      "None\n"
     ]
    }
   ],
   "source": [
    "#reverse a string using for a loop\n",
    "inp=input(\"enter the string\")\n",
    "inpm=list(map(str,inp.split()))\n",
    "h=inpm.reverse()\n",
    "print(h)"
   ]
  },
  {
   "cell_type": "code",
   "execution_count": 42,
   "id": "1aa0f2dd",
   "metadata": {},
   "outputs": [
    {
     "name": "stdout",
     "output_type": "stream",
     "text": [
      "nayraa\n"
     ]
    }
   ],
   "source": [
    "#code to reverse the string using for loop\n",
    "inp=input('Enter the String')\n",
    "reversed_string=''\n",
    "for char in inp:\n",
    " reversed_string=char+reversed_string\n",
    "print(reversed_string)\n"
   ]
  },
  {
   "cell_type": "code",
   "execution_count": 49,
   "id": "e061ff3f",
   "metadata": {},
   "outputs": [
    {
     "name": "stdout",
     "output_type": "stream",
     "text": [
      "['q', ' ', 'w', ' ', 'e', ' ', 'r']\n",
      "['q', ' ', 's', ' ', 'd', ' ', 'f']\n",
      "the character is  q\n",
      "the character is   \n",
      "the character is   \n",
      "the character is   \n"
     ]
    }
   ],
   "source": [
    "# we have to find out the similar item in the list\n",
    "list1=list(input('Enter the character for the first list'))\n",
    "list2=list(input('Enter the character for the second list'))\n",
    "print(list1)\n",
    "print(list2)\n",
    "s=0\n",
    "for n in list1:\n",
    " for m in list2:\n",
    "  if n==m:\n",
    "   print('the character is ',n)\n",
    "   s+=1\n",
    "   break\n",
    "if s==0:\n",
    " print('not found')\n",
    "  "
   ]
  },
  {
   "cell_type": "code",
   "execution_count": null,
   "id": "c5b767c6",
   "metadata": {},
   "outputs": [],
   "source": []
  }
 ],
 "metadata": {
  "kernelspec": {
   "display_name": "Python 3",
   "language": "python",
   "name": "python3"
  },
  "language_info": {
   "codemirror_mode": {
    "name": "ipython",
    "version": 3
   },
   "file_extension": ".py",
   "mimetype": "text/x-python",
   "name": "python",
   "nbconvert_exporter": "python",
   "pygments_lexer": "ipython3",
   "version": "3.9.6"
  }
 },
 "nbformat": 4,
 "nbformat_minor": 5
}
