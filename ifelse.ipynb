{
 "cells": [
  {
   "cell_type": "markdown",
   "id": "d7368b9c",
   "metadata": {},
   "source": [
    "Q1. Write a program to calculate the electricity bill\n",
    "using only if statement? (accept number of unit from user)\n",
    "according to the following criteria:205\n",
    "\n",
    "\n",
    "Unit Price\n",
    "First 100 units no charge\n",
    "Next 100 units Rs 5 per unit\n",
    "After 200 units Rs 10 per unit\n",
    "(For example, if input unit is 350 than total bill amount is Rs2000). Lets explain...\n",
    "For first 100 no charges\n",
    "Now you have 250 unit remaining\n",
    "100-200 you need to pay – 100*5 = 500\n",
    "Now 200-100 you need to pay 150*10 = 1500\n",
    "Total = 500+1500 = 2000"
   ]
  },
  {
   "cell_type": "code",
   "execution_count": null,
   "id": "b7cee838",
   "metadata": {},
   "outputs": [
    {
     "name": "stdout",
     "output_type": "stream",
     "text": [
      "No charges\n"
     ]
    }
   ],
   "source": [
    "#Program about electricity bill\n",
    "usi=int(input(\"Enter the electricity unit\"))\n",
    "if usi<=100:\n",
    "    print('No charges')\n",
    "elif usi>100 and usi<=200:\n",
    "     ch1=(usi-100)*105 #350,100-null,500+(usi-200)*10\n",
    "     print(ch1)\n",
    "elif(usi>200):\n",
    " ch2=500+(usi-200)*10\n",
    " print(ch2)\n",
    "else:\n",
    "    print('Invalid input') \n"
   ]
  },
  {
   "cell_type": "markdown",
   "id": "676b5fbc",
   "metadata": {},
   "source": [
    "Q2. Write a program to accept percentage from the user and display\n",
    "the grade according to the following criteria:\n",
    "\n",
    "Marks            Grade\n",
    "> 90               A\n",
    "> 80 and <= 90     B\n",
    ">= 60 and <= 80    C\n",
    "below 60           D"
   ]
  },
  {
   "cell_type": "code",
   "execution_count": 28,
   "id": "29b8a924",
   "metadata": {},
   "outputs": [
    {
     "name": "stdout",
     "output_type": "stream",
     "text": [
      "You have recived Grade A\n"
     ]
    }
   ],
   "source": [
    "#Proagram to built Percentage calculator\n",
    "pui=int(input('Enter the percentage')) #percentage from the user\n",
    "if(pui>90):\n",
    " print('You have recived Grade A')\n",
    "elif(pui>80 and pui<=90):\n",
    "   print('You have recived B grade')\n",
    "elif(pui>=60 and pui<=80):\n",
    "   print('You have recieved C grade')\n",
    "elif(pui<60):\n",
    "   print('You have recieved D grade')\n",
    "else:\n",
    "    print('invalid output')\n"
   ]
  },
  {
   "cell_type": "markdown",
   "id": "f2449787",
   "metadata": {},
   "source": [
    "Q3. Accept the age of 4 people and display the youngest one?"
   ]
  },
  {
   "cell_type": "code",
   "execution_count": 38,
   "id": "5d037a00",
   "metadata": {},
   "outputs": [
    {
     "name": "stdout",
     "output_type": "stream",
     "text": [
      "Entered the Age are\n",
      "10\n",
      "12\n",
      "14\n",
      "16\n",
      "The youngest Age is 16\n"
     ]
    }
   ],
   "source": [
    "# Program to built the youngest of all 4\n",
    "age1=int(input('Enter the first Age'))\n",
    "age2=int(input('Enter the Second Age'))\n",
    "age3=int(input('Enter the Third Age'))\n",
    "age4=int(input('Enter the Fourth Age'))\n",
    "print('Entered the Age are')\n",
    "print(age1)\n",
    "print(age2)\n",
    "print(age3)\n",
    "print(age4)\n",
    "y=age1\n",
    "if age2>y:\n",
    " y=age2\n",
    "if age3>y:\n",
    " y=age3\n",
    "if age4>y:\n",
    " y=age4\n",
    "\n",
    "print('The youngest Age is',y)\n",
    "\n"
   ]
  },
  {
   "cell_type": "markdown",
   "id": "6f2fa43d",
   "metadata": {},
   "source": [
    "Q4. A company decided to give bonus to employee\n",
    "according to following criteria:\n",
    "\n",
    "Time period of Service     Bonus\n",
    "\n",
    "More than 10 years         10%\n",
    "\n",
    ">=6 and <=10               8%\n",
    "\n",
    "Less than 6 years          5%\n",
    "\n",
    "Ask user for their salary and years of service and print the\n",
    "net bonus amount?"
   ]
  },
  {
   "cell_type": "code",
   "execution_count": null,
   "id": "07346c97",
   "metadata": {},
   "outputs": [],
   "source": [
    "pui=int(input('Enter the Time period of Experience')) #Time of Experience from the user\n",
    "sui=int(input('Enter the Salary')) #Salary of Experience from the user\n",
    "print('The experience of tenure is',pui)\n",
    "print('The Salary is',sui)\n",
    "if(pui>10)\n",
    " amt=0.1*\n",
    "\n"
   ]
  }
 ],
 "metadata": {
  "kernelspec": {
   "display_name": "Python 3",
   "language": "python",
   "name": "python3"
  },
  "language_info": {
   "codemirror_mode": {
    "name": "ipython",
    "version": 3
   },
   "file_extension": ".py",
   "mimetype": "text/x-python",
   "name": "python",
   "nbconvert_exporter": "python",
   "pygments_lexer": "ipython3",
   "version": "3.13.5"
  }
 },
 "nbformat": 4,
 "nbformat_minor": 5
}
