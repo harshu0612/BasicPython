{
 "cells": [
  {
   "cell_type": "markdown",
   "id": "d7368b9c",
   "metadata": {},
   "source": [
    "Q1. Write a program to calculate the electricity bill\n",
    "using only if statement? (accept number of unit from user)\n",
    "according to the following criteria:205\n",
    "\n",
    "\n",
    "Unit Price\n",
    "First 100 units no charge\n",
    "Next 100 units Rs 5 per unit\n",
    "After 200 units Rs 10 per unit\n",
    "(For example, if input unit is 350 than total bill amount is Rs2000). Lets explain...\n",
    "For first 100 no charges\n",
    "Now you have 250 unit remaining\n",
    "100-200 you need to pay – 100*5 = 500\n",
    "Now 200-100 you need to pay 150*10 = 1500\n",
    "Total = 500+1500 = 2000"
   ]
  },
  {
   "cell_type": "code",
   "execution_count": null,
   "id": "b7cee838",
   "metadata": {},
   "outputs": [
    {
     "name": "stdout",
     "output_type": "stream",
     "text": [
      "No charges\n"
     ]
    }
   ],
   "source": [
    "#Program about electricity bill\n",
    "usi=int(input(\"Enter the electricity unit\"))\n",
    "if usi<=100:\n",
    "    print('No charges')\n",
    "elif usi>100 and usi<=200:\n",
    "     ch1=(usi-100)*105 #350,100-null,500+(usi-200)*10\n",
    "     print(ch1)\n",
    "elif(usi>200):\n",
    " ch2=500+(usi-200)*10\n",
    " print(ch2)\n",
    "else:\n",
    "    print('Invalid input') \n"
   ]
  },
  {
   "cell_type": "markdown",
   "id": "676b5fbc",
   "metadata": {},
   "source": [
    "Q2. Write a program to accept percentage from the user and display\n",
    "the grade according to the following criteria:\n",
    "\n",
    "Marks            Grade\n",
    "> 90               A\n",
    "> 80 and <= 90     B\n",
    ">= 60 and <= 80    C\n",
    "below 60           D"
   ]
  },
  {
   "cell_type": "code",
   "execution_count": 28,
   "id": "29b8a924",
   "metadata": {},
   "outputs": [
    {
     "name": "stdout",
     "output_type": "stream",
     "text": [
      "You have recived Grade A\n"
     ]
    }
   ],
   "source": [
    "#Proagram to built Percentage calculator\n",
    "pui=int(input('Enter the percentage')) #percentage from the user\n",
    "if(pui>90):\n",
    " print('You have recived Grade A')\n",
    "elif(pui>80 and pui<=90):\n",
    "   print('You have recived B grade')\n",
    "elif(pui>=60 and pui<=80):\n",
    "   print('You have recieved C grade')\n",
    "elif(pui<60):\n",
    "   print('You have recieved D grade')\n",
    "else:\n",
    "    print('invalid output')\n"
   ]
  },
  {
   "cell_type": "markdown",
   "id": "f2449787",
   "metadata": {},
   "source": [
    "Q3. Accept the age of 4 people and display the youngest one?"
   ]
  },
  {
   "cell_type": "code",
   "execution_count": 38,
   "id": "5d037a00",
   "metadata": {},
   "outputs": [
    {
     "name": "stdout",
     "output_type": "stream",
     "text": [
      "Entered the Age are\n",
      "10\n",
      "12\n",
      "14\n",
      "16\n",
      "The youngest Age is 16\n"
     ]
    }
   ],
   "source": [
    "# Program to built the youngest of all 4\n",
    "age1=int(input('Enter the first Age'))\n",
    "age2=int(input('Enter the Second Age'))\n",
    "age3=int(input('Enter the Third Age'))\n",
    "age4=int(input('Enter the Fourth Age'))\n",
    "print('Entered the Age are')\n",
    "print(age1)\n",
    "print(age2)\n",
    "print(age3)\n",
    "print(age4)\n",
    "y=age1\n",
    "if age2>y:\n",
    " y=age2\n",
    "if age3>y:\n",
    " y=age3\n",
    "if age4>y:\n",
    " y=age4\n",
    "\n",
    "print('The youngest Age is',y)\n",
    "\n"
   ]
  },
  {
   "cell_type": "markdown",
   "id": "6f2fa43d",
   "metadata": {},
   "source": [
    "Q4. A company decided to give bonus to employee\n",
    "according to following criteria:\n",
    "\n",
    "Time period of Service     Bonus\n",
    "\n",
    "More than 10 years         10%\n",
    "\n",
    ">=6 and <=10               8%\n",
    "\n",
    "Less than 6 years          5%\n",
    "\n",
    "Ask user for their salary and years of service and print the\n",
    "net bonus amount?"
   ]
  },
  {
   "cell_type": "code",
   "execution_count": null,
   "id": "07346c97",
   "metadata": {},
   "outputs": [
    {
     "name": "stdout",
     "output_type": "stream",
     "text": [
      "The experience of tenure is 5\n",
      "The Salary is 1000\n",
      "50.0\n"
     ]
    }
   ],
   "source": [
    "pui=int(input('Enter the Time period of Experience')) #Time of Experience from the user\n",
    "sui=int(input('Enter the Salary')) #Salary of Experience from the user\n",
    "print('The experience of tenure is',pui)\n",
    "print('The Salary is',sui)\n",
    "if(pui>10):\n",
    " amt=int(0.1*sui)\n",
    " print('Bonus ammount is',amt)\n",
    "elif(pui>=6 and pui<=10):\n",
    " mt=0.08*sui\n",
    " print('Bonus ammount is',mt)\n",
    "elif (pui>0):\n",
    " mt2=0.05*sui\n",
    " print('Bonus Amount is'mt2)\n",
    "\n",
    "\n",
    "\n"
   ]
  },
  {
   "cell_type": "markdown",
   "id": "60c1bfed",
   "metadata": {},
   "source": [
    "Q5. Accept three numbers from the user and\n",
    "display the second largest number?"
   ]
  },
  {
   "cell_type": "code",
   "execution_count": 56,
   "id": "e009d479",
   "metadata": {},
   "outputs": [
    {
     "name": "stdout",
     "output_type": "stream",
     "text": [
      "12\n"
     ]
    }
   ],
   "source": [
    "# Second largest Number\n",
    "a=int(input(\"Enter the first number\"))\n",
    "b=int(input(\"Enter the second number\"))\n",
    "c=int(input(\"Enter the third number\"))\n",
    "if (a > b and a < c) or (a > c and a < b):\n",
    "    second_largest = a\n",
    "    print(a)\n",
    "elif (b > a and b < c) or (b > c and b < a):\n",
    "    second_largest = b\n",
    "    print(b)\n",
    "else:\n",
    "    second_largest = c\n",
    "    print(c)\n"
   ]
  },
  {
   "cell_type": "markdown",
   "id": "d25d2654",
   "metadata": {},
   "source": [
    "Q6. Accept the marked price from the user and calculate\n",
    "the Net amount as (Marked Price – Discount) to pay\n",
    "according to following criteria:\n",
    "\n",
    "Marked Price          Discount\n",
    ">10000                  20%\n",
    ">7000 and <=10000       15%\n",
    "<=7000                  10%"
   ]
  },
  {
   "cell_type": "code",
   "execution_count": 57,
   "id": "ed7a8d96",
   "metadata": {},
   "outputs": [
    {
     "name": "stdout",
     "output_type": "stream",
     "text": [
      "Marked Price: 10000.0\n",
      "Discount: 1500.0\n",
      "Net Amount to Pay: 8500.0\n"
     ]
    }
   ],
   "source": [
    "# Accept the marked price from the user\n",
    "marked_price = float(input(\"Enter the marked price: \"))\n",
    "\n",
    "# Calculate discount based on criteria\n",
    "if marked_price > 10000:\n",
    "    discount = 0.20 * marked_price\n",
    "elif marked_price > 7000:\n",
    "    discount = 0.15 * marked_price\n",
    "else:\n",
    "    discount = 0.10 * marked_price\n",
    "\n",
    "# Calculate net amount\n",
    "net_amount = marked_price - discount\n",
    "\n",
    "# Display the results\n",
    "print(\"Marked Price:\", marked_price)\n",
    "print(\"Discount:\", discount)\n",
    "print(\"Net Amount to Pay:\", net_amount)"
   ]
  },
  {
   "cell_type": "markdown",
   "id": "83e15985",
   "metadata": {},
   "source": [
    "Q7. Accept the marks of English, Math and Science,\n",
    "Social Studies Subject and display the stream allotted\n",
    "according to following:\n",
    "\n",
    "All Subjects more than 80 marks —                  Science Stream\n",
    "\n",
    "English >80 and Math, Science above 50 —          Commerce Stream\n",
    "\n",
    "English > 80 and social studies > 80 —              Humanities"
   ]
  },
  {
   "cell_type": "code",
   "execution_count": 58,
   "id": "8bcb3f89",
   "metadata": {},
   "outputs": [
    {
     "name": "stdout",
     "output_type": "stream",
     "text": [
      "Stream Allotted: Science Stream\n"
     ]
    }
   ],
   "source": [
    "# Accepting marks for all subjects\n",
    "english = int(input(\"Enter marks in English: \"))\n",
    "math = int(input(\"Enter marks in Math: \"))\n",
    "science = int(input(\"Enter marks in Science: \"))\n",
    "social = int(input(\"Enter marks in Social Studies: \"))\n",
    "\n",
    "# Determine the stream based on conditions\n",
    "if english > 80 and math > 80 and science > 80 and social > 80:\n",
    "    print(\"Stream Allotted: Science Stream\")\n",
    "elif english > 80 and math > 50 and science > 50:\n",
    "    print(\"Stream Allotted: Commerce Stream\")\n",
    "elif english > 80 and social > 80:\n",
    "    print(\"Stream Allotted: Humanities\")\n",
    "else:\n",
    "    print(\"No stream allotted based on the given criteria.\")\n"
   ]
  },
  {
   "cell_type": "markdown",
   "id": "59b7d8e6",
   "metadata": {},
   "source": [
    "Q8. Write a program to display \"Hello\" if a number entered\n",
    "by user is a multiple of five, otherwise print \"Bye\"?"
   ]
  },
  {
   "cell_type": "code",
   "execution_count": null,
   "id": "536517fb",
   "metadata": {},
   "outputs": [
    {
     "name": "stdout",
     "output_type": "stream",
     "text": [
      "bye\n"
     ]
    }
   ],
   "source": [
    "# Accept the Number from the user\n",
    "inp=int(input(\"Enter the number\"))\n",
    "if inp%5==0:\n",
    "    print('You have entered the number divisible by 5')\n",
    "    print('Hello')\n",
    "else:\n",
    "    print('bye')"
   ]
  },
  {
   "cell_type": "markdown",
   "id": "9668e521",
   "metadata": {},
   "source": [
    "Q9. Write a program to check whether the last digit of a number\n",
    "(entered by user) is divisible by 3 or not?"
   ]
  },
  {
   "cell_type": "code",
   "execution_count": 62,
   "id": "b3a7a610",
   "metadata": {},
   "outputs": [
    {
     "name": "stdout",
     "output_type": "stream",
     "text": [
      "The last digit 3 is divisible by 3.\n"
     ]
    }
   ],
   "source": [
    "# Take input from the user \n",
    "inp=int(input('Enter the Number to check '))\n",
    "inp2=inp%10\n",
    "if inp2 % 3 == 0:\n",
    "    print(\"The last digit\", inp2, \"is divisible by 3.\")\n",
    "else:\n",
    "    print(\"The last digit\", inp2, \"is not divisible by 3.\")"
   ]
  },
  {
   "cell_type": "markdown",
   "id": "a33727c8",
   "metadata": {},
   "source": [
    "Q10. Write a program to check whether a number entered\n",
    "is three-digit number or not?"
   ]
  },
  {
   "cell_type": "code",
   "execution_count": 65,
   "id": "64da43f4",
   "metadata": {},
   "outputs": [
    {
     "name": "stdout",
     "output_type": "stream",
     "text": [
      "It is a three-digit number.\n"
     ]
    }
   ],
   "source": [
    "#Asking the user to enter the Digit\n",
    "#This code will only allow positive integers\n",
    "num=int(input(\"Enter the Number\"))\n",
    "if (num >= 100 and num <= 999):\n",
    "    print(\"It is a three-digit number.\")\n",
    "else:\n",
    "    print(\"It is NOT a three-digit number.\")\n"
   ]
  },
  {
   "cell_type": "code",
   "execution_count": null,
   "id": "456b5727",
   "metadata": {},
   "outputs": [],
   "source": []
  }
 ],
 "metadata": {
  "kernelspec": {
   "display_name": "Python 3",
   "language": "python",
   "name": "python3"
  },
  "language_info": {
   "codemirror_mode": {
    "name": "ipython",
    "version": 3
   },
   "file_extension": ".py",
   "mimetype": "text/x-python",
   "name": "python",
   "nbconvert_exporter": "python",
   "pygments_lexer": "ipython3",
   "version": "3.13.5"
  }
 },
 "nbformat": 4,
 "nbformat_minor": 5
}
