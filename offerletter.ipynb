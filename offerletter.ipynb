{
 "cells": [
  {
   "cell_type": "markdown",
   "id": "82ba1f46",
   "metadata": {},
   "source": [
    "This code is an offer letter generator. It asks the user for all the required credentials to generate the offer letter."
   ]
  },
  {
   "cell_type": "code",
   "execution_count": 3,
   "id": "c8487e22",
   "metadata": {},
   "outputs": [
    {
     "name": "stdout",
     "output_type": "stream",
     "text": [
      "=== Offer letter >\n",
      "\n",
      "\n",
      "=== GENERATED OFFER LETTER ===\n",
      "\n",
      "\n",
      "A/52 Sector 16 Noida UP\n",
      "\n",
      "Dear ,\n",
      "\n",
      "Subject: Offer of Employment for the position of \n",
      "\n",
      "We are delighted to extend this formal offer of employment to you for the position of  at our organization. Based on your qualifications and the skills you demonstrated during the recruitment process, we are confident that you will be a valuable addition to our team.\n",
      "\n",
      "As discussed, your expected date of joining is . Your total compensation package will be , which includes all salary components as per the company’s policy. Further details regarding your compensation will be provided in your employment contract.\n",
      "\n",
      "We expect you to bring your best efforts to help the company achieve its goals, and we are committed to supporting your professional growth during your time with us.\n",
      "\n",
      "Please confirm your acceptance of this offer by sending an email to  at your earliest convenience. Should you have any queries regarding this offer, feel free to reach out to us.\n",
      "\n",
      "We look forward to having you onboard and are excited about the great things we can accomplish together.\n",
      "\n",
      "Sincerely,\n",
      "\n",
      "Sunil Kumar  \n",
      "HR Manager\n",
      "\n"
     ]
    }
   ],
   "source": [
    "# -----offer letter generator\n",
    "\n",
    "print(\"=== Offer letter >\\n\")\n",
    "\n",
    "# Taking all inputs from the user\n",
    "name = input(\"Enter candidate's full name: \")\n",
    "position = input(\"Enter job position: \")\n",
    "dob = input(\"Enter date of joining (DD-MM-YYYY): \")\n",
    "salary = input(\"Enter total salary package: \")\n",
    "email = input(\"Enter HR contact email: \")\n",
    "\n",
    "# Generating the offer letter using docstring and the format string\n",
    "print(\"\\n=== GENERATED OFFER LETTER ===\\n\")\n",
    "\n",
    "print(f\"\"\"\n",
    "A/52 Sector 16 Noida UP\n",
    "\n",
    "Dear {name},\n",
    "\n",
    "Subject: Offer of Employment for the position of {position}\n",
    "\n",
    "We are delighted to extend this formal offer of employment to you for the position of {position} at our organization. Based on your qualifications and the skills you demonstrated during the recruitment process, we are confident that you will be a valuable addition to our team.\n",
    "\n",
    "As discussed, your expected date of joining is {dob}. Your total compensation package will be {salary}, which includes all salary components as per the company’s policy. Further details regarding your compensation will be provided in your employment contract.\n",
    "\n",
    "We expect you to bring your best efforts to help the company achieve its goals, and we are committed to supporting your professional growth during your time with us.\n",
    "\n",
    "Please confirm your acceptance of this offer by sending an email to {email} at your earliest convenience. Should you have any queries regarding this offer, feel free to reach out to us.\n",
    "\n",
    "We look forward to having you onboard and are excited about the great things we can accomplish together.\n",
    "\n",
    "Sincerely,\n",
    "\n",
    "Sunil Kumar  \n",
    "HR Manager\n",
    "\"\"\")\n"
   ]
  }
 ],
 "metadata": {
  "kernelspec": {
   "display_name": "Python 3",
   "language": "python",
   "name": "python3"
  },
  "language_info": {
   "codemirror_mode": {
    "name": "ipython",
    "version": 3
   },
   "file_extension": ".py",
   "mimetype": "text/x-python",
   "name": "python",
   "nbconvert_exporter": "python",
   "pygments_lexer": "ipython3",
   "version": "3.13.5"
  }
 },
 "nbformat": 4,
 "nbformat_minor": 5
}
