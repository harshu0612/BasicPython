{
 "cells": [
  {
   "cell_type": "markdown",
   "id": "b9de1c2d",
   "metadata": {},
   "source": [
    "1. str.capitalize()"
   ]
  },
  {
   "cell_type": "code",
   "execution_count": 52,
   "id": "a52f8fc1",
   "metadata": {},
   "outputs": [
    {
     "data": {
      "text/plain": [
       "'This is a string'"
      ]
     },
     "execution_count": 52,
     "metadata": {},
     "output_type": "execute_result"
    }
   ],
   "source": [
    "string='this is a String'\n",
    "string.capitalize()\n"
   ]
  },
  {
   "cell_type": "markdown",
   "id": "695e1afc",
   "metadata": {},
   "source": [
    "2. str.casefold()\n",
    "Converts to lowercase (more aggressive than lower())."
   ]
  },
  {
   "cell_type": "code",
   "execution_count": 53,
   "id": "d1359529",
   "metadata": {},
   "outputs": [
    {
     "data": {
      "text/plain": [
       "'this is a string'"
      ]
     },
     "execution_count": 53,
     "metadata": {},
     "output_type": "execute_result"
    }
   ],
   "source": [
    "string='This is a String'\n",
    "string.casefold()"
   ]
  },
  {
   "cell_type": "markdown",
   "id": "7d2ab06c",
   "metadata": {},
   "source": [
    "3. str.center(width[, fillchar])\n",
    "Centers the string within the specified width."
   ]
  },
  {
   "cell_type": "code",
   "execution_count": 54,
   "id": "3020a37d",
   "metadata": {},
   "outputs": [
    {
     "data": {
      "text/plain": [
       "'@@This is a String@@'"
      ]
     },
     "execution_count": 54,
     "metadata": {},
     "output_type": "execute_result"
    }
   ],
   "source": [
    "string='This is a String'\n",
    "string.center(20,'@')"
   ]
  },
  {
   "cell_type": "markdown",
   "id": "6612d50e",
   "metadata": {},
   "source": [
    "4. str.count(sub[, start[, end]])\n",
    "Returns the number of non-overlapping occurrences of a substring."
   ]
  },
  {
   "cell_type": "code",
   "execution_count": 55,
   "id": "3a59d53d",
   "metadata": {},
   "outputs": [
    {
     "data": {
      "text/plain": [
       "2"
      ]
     },
     "execution_count": 55,
     "metadata": {},
     "output_type": "execute_result"
    }
   ],
   "source": [
    "string='This is a String'\n",
    "string.count('i',1,10)"
   ]
  },
  {
   "cell_type": "markdown",
   "id": "857d317d",
   "metadata": {},
   "source": [
    "5. str.encode(encoding=\"utf-8\", errors=\"strict\")\n",
    "Returns encoded version of the string."
   ]
  },
  {
   "cell_type": "code",
   "execution_count": 24,
   "id": "1f3d93fa",
   "metadata": {},
   "outputs": [
    {
     "name": "stdout",
     "output_type": "stream",
     "text": [
      "b'Caf\\xc3\\xa9'\n"
     ]
    }
   ],
   "source": [
    "text = \"Café\"\n",
    "print(text.encode(\"utf-8\"))\n"
   ]
  },
  {
   "cell_type": "markdown",
   "id": "6d6021eb",
   "metadata": {},
   "source": [
    "6. str.endswith(suffix[, start[, end]])\n",
    "Returns True if the string ends with the specified suffix."
   ]
  },
  {
   "cell_type": "code",
   "execution_count": 62,
   "id": "719ed680",
   "metadata": {},
   "outputs": [
    {
     "data": {
      "text/plain": [
       "True"
      ]
     },
     "execution_count": 62,
     "metadata": {},
     "output_type": "execute_result"
    }
   ],
   "source": [
    "str='this is a string'\n",
    "str.endswith('g')"
   ]
  },
  {
   "cell_type": "markdown",
   "id": "ff680769",
   "metadata": {},
   "source": [
    "7. str.expandtabs(tabsize=8)\n",
    "Replaces tabs with spaces."
   ]
  },
  {
   "cell_type": "code",
   "execution_count": null,
   "id": "690dc85b",
   "metadata": {},
   "outputs": [
    {
     "name": "stdout",
     "output_type": "stream",
     "text": [
      "Hello   World\n"
     ]
    }
   ],
   "source": [
    "text = \"Hello\\tWorld\" #here tab is replaced with 8 spaces\n",
    "print(text.expandtabs())"
   ]
  },
  {
   "cell_type": "markdown",
   "id": "8c00308f",
   "metadata": {},
   "source": [
    "8. str.find(sub[, start[, end]])\n",
    "Returns the lowest index of the substring; returns -1 if not found."
   ]
  },
  {
   "cell_type": "code",
   "execution_count": 67,
   "id": "2bd9f1ed",
   "metadata": {},
   "outputs": [
    {
     "data": {
      "text/plain": [
       "2"
      ]
     },
     "execution_count": 67,
     "metadata": {},
     "output_type": "execute_result"
    }
   ],
   "source": [
    "string='This is a string'\n",
    "string.find('i')"
   ]
  },
  {
   "cell_type": "markdown",
   "id": "29051d66",
   "metadata": {},
   "source": [
    "9. str.format(*args, **kwargs)\n",
    "Formats string using the specified arguments."
   ]
  },
  {
   "cell_type": "code",
   "execution_count": 70,
   "id": "4f3e69e0",
   "metadata": {},
   "outputs": [
    {
     "name": "stdout",
     "output_type": "stream",
     "text": [
      "My name is Riya and I am 21 years old.\n"
     ]
    }
   ],
   "source": [
    "text = \"My name is {} and I am {} years old.\".format(\"Riya\", 21)\n",
    "print(text)"
   ]
  },
  {
   "cell_type": "markdown",
   "id": "133e52ec",
   "metadata": {},
   "source": [
    "10. str.format_map(mapping)\n",
    "Formats string using a mapping"
   ]
  },
  {
   "cell_type": "code",
   "execution_count": 71,
   "id": "04e9d439",
   "metadata": {},
   "outputs": [
    {
     "name": "stdout",
     "output_type": "stream",
     "text": [
      "My name is Riya and I am 21 years old.\n"
     ]
    }
   ],
   "source": [
    "data = {\"name\": \"Riya\", \"age\": 21}\n",
    "text = \"My name is {name} and I am {age} years old.\".format_map(data)\n",
    "print(text)"
   ]
  },
  {
   "cell_type": "markdown",
   "id": "1f8b70a6",
   "metadata": {},
   "source": [
    "11. str.index(sub[, start[, end]])\n",
    "Like find() but raises ValueError if not found."
   ]
  },
  {
   "cell_type": "code",
   "execution_count": null,
   "id": "932688c4",
   "metadata": {},
   "outputs": [
    {
     "data": {
      "text/plain": [
       "3"
      ]
     },
     "execution_count": 72,
     "metadata": {},
     "output_type": "execute_result"
    }
   ],
   "source": [
    "h='this is a String'\n",
    "h.index('s')"
   ]
  },
  {
   "cell_type": "markdown",
   "id": "1827c981",
   "metadata": {},
   "source": [
    "12. str.isalnum()\n",
    "Returns True if all characters are alphanumeric."
   ]
  },
  {
   "cell_type": "code",
   "execution_count": 75,
   "id": "f8617d5c",
   "metadata": {},
   "outputs": [
    {
     "data": {
      "text/plain": [
       "False"
      ]
     },
     "execution_count": 75,
     "metadata": {},
     "output_type": "execute_result"
    }
   ],
   "source": [
    "h='This is a String'#here the output is false because there are spaces\n",
    "h.isalnum()"
   ]
  },
  {
   "cell_type": "markdown",
   "id": "6195856b",
   "metadata": {},
   "source": [
    "13. str.isalpha()\n",
    "Returns True if all characters are alphabetic."
   ]
  },
  {
   "cell_type": "code",
   "execution_count": 77,
   "id": "e6efa098",
   "metadata": {},
   "outputs": [
    {
     "data": {
      "text/plain": [
       "True"
      ]
     },
     "execution_count": 77,
     "metadata": {},
     "output_type": "execute_result"
    }
   ],
   "source": [
    "h='ThisisaString'\n",
    "h.isalpha()"
   ]
  },
  {
   "cell_type": "markdown",
   "id": "0baa1e93",
   "metadata": {},
   "source": [
    "14. str.isascii()\n",
    "Returns True if all characters are ASCII."
   ]
  },
  {
   "cell_type": "code",
   "execution_count": null,
   "id": "13b42049",
   "metadata": {},
   "outputs": [
    {
     "data": {
      "text/plain": [
       "True"
      ]
     },
     "execution_count": 78,
     "metadata": {},
     "output_type": "execute_result"
    }
   ],
   "source": [
    "h='97' # This is the ascii value of the letter 'a'\n",
    "h.isascii()"
   ]
  },
  {
   "cell_type": "markdown",
   "id": "7378d983",
   "metadata": {},
   "source": [
    "15. str.isdecimal()\n",
    "Returns True if all characters are decimal characters."
   ]
  },
  {
   "cell_type": "code",
   "execution_count": 80,
   "id": "a432c62d",
   "metadata": {},
   "outputs": [
    {
     "data": {
      "text/plain": [
       "True"
      ]
     },
     "execution_count": 80,
     "metadata": {},
     "output_type": "execute_result"
    }
   ],
   "source": [
    "h='97'\n",
    "h.isdecimal()"
   ]
  },
  {
   "cell_type": "markdown",
   "id": "a63dd9cf",
   "metadata": {},
   "source": [
    "16. str.isdigit()\n",
    "Returns True if all characters are digits."
   ]
  },
  {
   "cell_type": "code",
   "execution_count": 82,
   "id": "77341210",
   "metadata": {},
   "outputs": [
    {
     "data": {
      "text/plain": [
       "True"
      ]
     },
     "execution_count": 82,
     "metadata": {},
     "output_type": "execute_result"
    }
   ],
   "source": [
    "h='97'\n",
    "h.isdigit()"
   ]
  },
  {
   "cell_type": "markdown",
   "id": "c98e5ff2",
   "metadata": {},
   "source": [
    "17. str.isidentifier()\n",
    "Returns True if string is a valid identifier."
   ]
  },
  {
   "cell_type": "code",
   "execution_count": null,
   "id": "1d9e490a",
   "metadata": {},
   "outputs": [
    {
     "data": {
      "text/plain": [
       "True"
      ]
     },
     "execution_count": 85,
     "metadata": {},
     "output_type": "execute_result"
    }
   ],
   "source": [
    "h='if' #The is identifier() method checks whether a string is a valid Python Variable\n",
    "h.isidentifier()"
   ]
  },
  {
   "cell_type": "markdown",
   "id": "70c8aa02",
   "metadata": {},
   "source": [
    "18. str.islower()\n",
    "Returns True if all characters are lowercase."
   ]
  },
  {
   "cell_type": "code",
   "execution_count": 86,
   "id": "e0a4f450",
   "metadata": {},
   "outputs": [
    {
     "data": {
      "text/plain": [
       "False"
      ]
     },
     "execution_count": 86,
     "metadata": {},
     "output_type": "execute_result"
    }
   ],
   "source": [
    "h='PYTHON'\n",
    "h.islower()\n"
   ]
  },
  {
   "cell_type": "markdown",
   "id": "88c1be2a",
   "metadata": {},
   "source": [
    "19. str.isnumeric()\n",
    "Returns True if all characters are numeric."
   ]
  },
  {
   "cell_type": "code",
   "execution_count": 87,
   "id": "e05743ce",
   "metadata": {},
   "outputs": [
    {
     "data": {
      "text/plain": [
       "False"
      ]
     },
     "execution_count": 87,
     "metadata": {},
     "output_type": "execute_result"
    }
   ],
   "source": [
    "h='97Harshu'\n",
    "h.isnumeric()"
   ]
  },
  {
   "cell_type": "markdown",
   "id": "00f89387",
   "metadata": {},
   "source": [
    "20. str.isprintable()\n",
    "Returns True if all characters are printable."
   ]
  },
  {
   "cell_type": "code",
   "execution_count": 90,
   "id": "b5d5f2ed",
   "metadata": {},
   "outputs": [
    {
     "data": {
      "text/plain": [
       "False"
      ]
     },
     "execution_count": 90,
     "metadata": {},
     "output_type": "execute_result"
    }
   ],
   "source": [
    "#returns true if all character in the string is printable such as numeric and alphabet,non-printable are /n and /t\n",
    "h='har\\nshu'\n",
    "h.isprintable()"
   ]
  },
  {
   "cell_type": "markdown",
   "id": "da387f53",
   "metadata": {},
   "source": [
    "21. str.isspace()\n",
    "Returns True if all characters are whitespace."
   ]
  },
  {
   "cell_type": "code",
   "execution_count": 94,
   "id": "22e8014d",
   "metadata": {},
   "outputs": [
    {
     "data": {
      "text/plain": [
       "True"
      ]
     },
     "execution_count": 94,
     "metadata": {},
     "output_type": "execute_result"
    }
   ],
   "source": [
    "h=' '\n",
    "h.isspace()\n"
   ]
  },
  {
   "cell_type": "markdown",
   "id": "0040c6ba",
   "metadata": {},
   "source": [
    "22. str.istitle()\n",
    "Returns True if the string is titlecased."
   ]
  },
  {
   "cell_type": "code",
   "execution_count": 95,
   "id": "a70c75fe",
   "metadata": {},
   "outputs": [
    {
     "data": {
      "text/plain": [
       "True"
      ]
     },
     "execution_count": 95,
     "metadata": {},
     "output_type": "execute_result"
    }
   ],
   "source": [
    "h='This Is A String'\n",
    "#Each word starts with an uppercase letter, and the rest of the letters in each word are lowercase.\n",
    "h.istitle()"
   ]
  },
  {
   "cell_type": "markdown",
   "id": "68ca53a1",
   "metadata": {},
   "source": [
    "23. str.isupper()\n",
    "Returns True if all characters are uppercase."
   ]
  },
  {
   "cell_type": "code",
   "execution_count": 98,
   "id": "55af10c3",
   "metadata": {},
   "outputs": [
    {
     "data": {
      "text/plain": [
       "False"
      ]
     },
     "execution_count": 98,
     "metadata": {},
     "output_type": "execute_result"
    }
   ],
   "source": [
    "h='This is a String' #returns False\n",
    "h.isupper()\n"
   ]
  },
  {
   "cell_type": "code",
   "execution_count": 100,
   "id": "3d59d7f5",
   "metadata": {},
   "outputs": [
    {
     "data": {
      "text/plain": [
       "True"
      ]
     },
     "execution_count": 100,
     "metadata": {},
     "output_type": "execute_result"
    }
   ],
   "source": [
    "m='PYTHON'\n",
    "m.isupper() #returns True"
   ]
  },
  {
   "cell_type": "markdown",
   "id": "256a33ed",
   "metadata": {},
   "source": [
    "24. str.join(iterable)\n",
    "Joins elements of an iterable with the string as a separator."
   ]
  },
  {
   "cell_type": "code",
   "execution_count": 101,
   "id": "a3f96ec8",
   "metadata": {},
   "outputs": [
    {
     "data": {
      "text/plain": [
       "'thisisharshu'"
      ]
     },
     "execution_count": 101,
     "metadata": {},
     "output_type": "execute_result"
    }
   ],
   "source": [
    "h='this','is','harshu'\n",
    "''.join(h)"
   ]
  },
  {
   "cell_type": "markdown",
   "id": "35e0a19d",
   "metadata": {},
   "source": [
    "25. str.ljust(width[, fillchar])\n",
    "Left-justifies the string."
   ]
  },
  {
   "cell_type": "code",
   "execution_count": 102,
   "id": "022caae8",
   "metadata": {},
   "outputs": [
    {
     "data": {
      "text/plain": [
       "'python    '"
      ]
     },
     "execution_count": 102,
     "metadata": {},
     "output_type": "execute_result"
    }
   ],
   "source": [
    "#pads with space on the right side to fulfill the desired width\n",
    "h='python'\n",
    "h.ljust(10)\n"
   ]
  },
  {
   "cell_type": "markdown",
   "id": "c4557c30",
   "metadata": {},
   "source": [
    "26. str.lower()\n",
    "Converts to lowercase."
   ]
  },
  {
   "cell_type": "code",
   "execution_count": 104,
   "id": "c0fd874e",
   "metadata": {},
   "outputs": [
    {
     "data": {
      "text/plain": [
       "'python'"
      ]
     },
     "execution_count": 104,
     "metadata": {},
     "output_type": "execute_result"
    }
   ],
   "source": [
    "h='PYTHON'\n",
    "h.lower()\n"
   ]
  },
  {
   "cell_type": "markdown",
   "id": "0ae3c70c",
   "metadata": {},
   "source": [
    "27. str.lstrip([chars])\n",
    "Removes leading characters (default: whitespace)."
   ]
  },
  {
   "cell_type": "code",
   "execution_count": null,
   "id": "f8fdae25",
   "metadata": {},
   "outputs": [
    {
     "data": {
      "text/plain": [
       "'Harshu'"
      ]
     },
     "execution_count": 105,
     "metadata": {},
     "output_type": "execute_result"
    }
   ],
   "source": [
    "l='     Harshu'#removes all the whitespace in the left side\n",
    "l.lstrip()"
   ]
  },
  {
   "cell_type": "markdown",
   "id": "e97fa2fe",
   "metadata": {},
   "source": [
    "28. str.maketrans(x, y=None, z=None)\n",
    "Returns a translation table."
   ]
  },
  {
   "cell_type": "code",
   "execution_count": 109,
   "id": "4c1158ca",
   "metadata": {},
   "outputs": [
    {
     "data": {
      "text/plain": [
       "'shis is dog'"
      ]
     },
     "execution_count": 109,
     "metadata": {},
     "output_type": "execute_result"
    }
   ],
   "source": [
    "h= str.maketrans('at','is')\n",
    "\"this at dog\".translate(h)"
   ]
  },
  {
   "cell_type": "markdown",
   "id": "e239b0af",
   "metadata": {},
   "source": [
    "29. str.partition(sep)\n",
    "Splits the string at the first occurrence of sep."
   ]
  },
  {
   "cell_type": "code",
   "execution_count": 112,
   "id": "3091e530",
   "metadata": {},
   "outputs": [
    {
     "data": {
      "text/plain": [
       "('Th', 'is', ' is a string')"
      ]
     },
     "execution_count": 112,
     "metadata": {},
     "output_type": "execute_result"
    }
   ],
   "source": [
    "h='This is a string'\n",
    "h.partition('is')"
   ]
  },
  {
   "cell_type": "markdown",
   "id": "d13e4f7c",
   "metadata": {},
   "source": [
    "30. str.removeprefix(prefix)\n",
    "Removes the specified prefix if present."
   ]
  },
  {
   "cell_type": "code",
   "execution_count": 1,
   "id": "6dc94f13",
   "metadata": {},
   "outputs": [
    {
     "data": {
      "text/plain": [
       "'his is a string'"
      ]
     },
     "execution_count": 1,
     "metadata": {},
     "output_type": "execute_result"
    }
   ],
   "source": [
    "h='this is a string'\n",
    "h.removeprefix('t')"
   ]
  },
  {
   "cell_type": "markdown",
   "id": "14f384a9",
   "metadata": {},
   "source": [
    "31. str.removesuffix(suffix)\n",
    "Removes the specified suffix if present."
   ]
  },
  {
   "cell_type": "code",
   "execution_count": 2,
   "id": "489629bd",
   "metadata": {},
   "outputs": [
    {
     "data": {
      "text/plain": [
       "'This is a strin'"
      ]
     },
     "execution_count": 2,
     "metadata": {},
     "output_type": "execute_result"
    }
   ],
   "source": [
    "h='This is a string'\n",
    "h.removesuffix('g')"
   ]
  },
  {
   "cell_type": "markdown",
   "id": "371c86a8",
   "metadata": {},
   "source": [
    "32. str.replace(old, new[, count])\n",
    "Returns a copy with all occurrences of a substring replaced."
   ]
  },
  {
   "cell_type": "code",
   "execution_count": 3,
   "id": "03cdb7bf",
   "metadata": {},
   "outputs": [
    {
     "data": {
      "text/plain": [
       "'that is a string'"
      ]
     },
     "execution_count": 3,
     "metadata": {},
     "output_type": "execute_result"
    }
   ],
   "source": [
    "h='this is a string'\n",
    "h.replace('this','that')"
   ]
  },
  {
   "cell_type": "markdown",
   "id": "4f4e3166",
   "metadata": {},
   "source": [
    "33. str.rfind(sub[, start[, end]])\n",
    "Returns the highest index of the substring."
   ]
  },
  {
   "cell_type": "code",
   "execution_count": 6,
   "id": "3aa59a72",
   "metadata": {},
   "outputs": [
    {
     "data": {
      "text/plain": [
       "23"
      ]
     },
     "execution_count": 6,
     "metadata": {},
     "output_type": "execute_result"
    }
   ],
   "source": [
    "h='this is a part of a string'\n",
    "h.rfind('i')"
   ]
  },
  {
   "cell_type": "markdown",
   "id": "7be74769",
   "metadata": {},
   "source": [
    "34. str.rindex(sub[, start[, end]])\n",
    "Like rfind() but raises ValueError if not found."
   ]
  },
  {
   "cell_type": "code",
   "execution_count": 7,
   "id": "02c23a26",
   "metadata": {},
   "outputs": [
    {
     "data": {
      "text/plain": [
       "18"
      ]
     },
     "execution_count": 7,
     "metadata": {},
     "output_type": "execute_result"
    }
   ],
   "source": [
    "h='this is a part of a String'\n",
    "h.rindex('a')"
   ]
  },
  {
   "cell_type": "markdown",
   "id": "9a1f3b37",
   "metadata": {},
   "source": [
    "35. str.rjust(width[, fillchar])\n",
    "Right-justifies the string."
   ]
  },
  {
   "cell_type": "code",
   "execution_count": null,
   "id": "198de0d2",
   "metadata": {},
   "outputs": [
    {
     "data": {
      "text/plain": [
       "'@@@@python'"
      ]
     },
     "execution_count": 8,
     "metadata": {},
     "output_type": "execute_result"
    }
   ],
   "source": [
    "h='python' #it padds a character in the left of the string to the desired length\n",
    "h.rjust(10,'@')\n"
   ]
  },
  {
   "cell_type": "markdown",
   "id": "cc68456d",
   "metadata": {},
   "source": [
    "36. str.rsplit(sep=None, maxsplit=-1)\n",
    "Splits the string from the right."
   ]
  },
  {
   "cell_type": "code",
   "execution_count": 9,
   "id": "839fc97d",
   "metadata": {},
   "outputs": [
    {
     "data": {
      "text/plain": [
       "['python', 'is', 'a', 'easy', 'language']"
      ]
     },
     "execution_count": 9,
     "metadata": {},
     "output_type": "execute_result"
    }
   ],
   "source": [
    "h='python is a easy language'\n",
    "h.rsplit()"
   ]
  },
  {
   "cell_type": "markdown",
   "id": "bb5adadc",
   "metadata": {},
   "source": [
    "37. str.rstrip([chars])\n",
    "Removes trailing characters (default: whitespace)."
   ]
  },
  {
   "cell_type": "code",
   "execution_count": null,
   "id": "b926cfbb",
   "metadata": {},
   "outputs": [
    {
     "data": {
      "text/plain": [
       "'this is a string.'"
      ]
     },
     "execution_count": 11,
     "metadata": {},
     "output_type": "execute_result"
    }
   ],
   "source": [
    "h='this is a string.                  '#here it remove all the whitespace from the string in right side\n",
    "h.rstrip()"
   ]
  },
  {
   "cell_type": "markdown",
   "id": "87388a8d",
   "metadata": {},
   "source": [
    "38. str.split(sep=None, maxsplit=-1)\n",
    "Splits the string."
   ]
  },
  {
   "cell_type": "code",
   "execution_count": 12,
   "id": "00cff7f1",
   "metadata": {},
   "outputs": [
    {
     "data": {
      "text/plain": [
       "['This', 'is', 'a', 'String']"
      ]
     },
     "execution_count": 12,
     "metadata": {},
     "output_type": "execute_result"
    }
   ],
   "source": [
    "h='This is a String'\n",
    "h.split()"
   ]
  },
  {
   "cell_type": "markdown",
   "id": "23cb8faf",
   "metadata": {},
   "source": [
    "39. str.splitlines([keepends])\n",
    "Splits at line breaks."
   ]
  },
  {
   "cell_type": "code",
   "execution_count": 16,
   "id": "92d13c56",
   "metadata": {},
   "outputs": [
    {
     "data": {
      "text/plain": [
       "['This is aString']"
      ]
     },
     "execution_count": 16,
     "metadata": {},
     "output_type": "execute_result"
    }
   ],
   "source": [
    "h='This is a' \\\n",
    "'String' #it mergest the seprates line together whether they are seprated using \\n\n",
    "h.splitlines()"
   ]
  },
  {
   "cell_type": "markdown",
   "id": "de337b16",
   "metadata": {},
   "source": [
    "40. str.startswith(prefix[, start[, end]])\n",
    "Returns True if the string starts with the prefix."
   ]
  },
  {
   "cell_type": "code",
   "execution_count": 17,
   "id": "3de971cc",
   "metadata": {},
   "outputs": [
    {
     "data": {
      "text/plain": [
       "True"
      ]
     },
     "execution_count": 17,
     "metadata": {},
     "output_type": "execute_result"
    }
   ],
   "source": [
    "h='This is a String'\n",
    "h.startswith('T')"
   ]
  },
  {
   "cell_type": "markdown",
   "id": "ffd604c1",
   "metadata": {},
   "source": [
    "41. str.strip([chars])\n",
    "Removes leading and trailing characters."
   ]
  },
  {
   "cell_type": "code",
   "execution_count": 18,
   "id": "7e484f08",
   "metadata": {},
   "outputs": [
    {
     "data": {
      "text/plain": [
       "'this is a string'"
      ]
     },
     "execution_count": 18,
     "metadata": {},
     "output_type": "execute_result"
    }
   ],
   "source": [
    "h='       this is a string          '\n",
    "h.strip()"
   ]
  },
  {
   "cell_type": "markdown",
   "id": "edc1738e",
   "metadata": {},
   "source": [
    "42. str.swapcase()\n",
    "Swaps case of all characters."
   ]
  },
  {
   "cell_type": "code",
   "execution_count": 19,
   "id": "1c4493d8",
   "metadata": {},
   "outputs": [
    {
     "data": {
      "text/plain": [
       "'pyTHON'"
      ]
     },
     "execution_count": 19,
     "metadata": {},
     "output_type": "execute_result"
    }
   ],
   "source": [
    "h='PYthon'\n",
    "h.swapcase()"
   ]
  },
  {
   "cell_type": "markdown",
   "id": "879c3367",
   "metadata": {},
   "source": [
    "43. str.title()\n",
    "Returns a titlecased version of the string."
   ]
  },
  {
   "cell_type": "code",
   "execution_count": 21,
   "id": "b8a47221",
   "metadata": {},
   "outputs": [
    {
     "data": {
      "text/plain": [
       "'This Is A String'"
      ]
     },
     "execution_count": 21,
     "metadata": {},
     "output_type": "execute_result"
    }
   ],
   "source": [
    "h='This is a string'\n",
    "h.title()\n"
   ]
  },
  {
   "cell_type": "markdown",
   "id": "71a66949",
   "metadata": {},
   "source": [
    "45. str.upper()\n",
    "Converts all characters to uppercase. "
   ]
  },
  {
   "cell_type": "code",
   "execution_count": 22,
   "id": "caf54edc",
   "metadata": {},
   "outputs": [
    {
     "data": {
      "text/plain": [
       "'THIS IS A PART OF A STRING'"
      ]
     },
     "execution_count": 22,
     "metadata": {},
     "output_type": "execute_result"
    }
   ],
   "source": [
    "h='This is a part of a String'\n",
    "h.upper()\n"
   ]
  },
  {
   "cell_type": "markdown",
   "id": "75812346",
   "metadata": {},
   "source": [
    "46. str.zfill(width)\n",
    "Pads the string on the left with zeros."
   ]
  },
  {
   "cell_type": "code",
   "execution_count": 23,
   "id": "116a441e",
   "metadata": {},
   "outputs": [
    {
     "data": {
      "text/plain": [
       "'00000000000000harshu'"
      ]
     },
     "execution_count": 23,
     "metadata": {},
     "output_type": "execute_result"
    }
   ],
   "source": [
    "h='harshu'\n",
    "h.zfill(20)"
   ]
  }
 ],
 "metadata": {
  "kernelspec": {
   "display_name": "Python 3",
   "language": "python",
   "name": "python3"
  },
  "language_info": {
   "codemirror_mode": {
    "name": "ipython",
    "version": 3
   },
   "file_extension": ".py",
   "mimetype": "text/x-python",
   "name": "python",
   "nbconvert_exporter": "python",
   "pygments_lexer": "ipython3",
   "version": "3.13.5"
  }
 },
 "nbformat": 4,
 "nbformat_minor": 5
}
